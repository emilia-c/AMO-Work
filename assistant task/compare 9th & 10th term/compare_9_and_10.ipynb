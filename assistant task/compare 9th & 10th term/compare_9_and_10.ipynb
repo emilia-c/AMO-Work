{
 "cells": [
  {
   "cell_type": "markdown",
   "metadata": {},
   "source": [
    "## 1. SET-UP"
   ]
  },
  {
   "cell_type": "code",
   "execution_count": 2,
   "metadata": {},
   "outputs": [],
   "source": [
    "import pandas as pd\n",
    "import json\n",
    "import os"
   ]
  },
  {
   "cell_type": "code",
   "execution_count": 3,
   "metadata": {},
   "outputs": [
    {
     "name": "stdout",
     "output_type": "stream",
     "text": [
      "Loading MEP data from: C:/Users/Emilia/Documents/Uni Helsinki/Year Three/AMO Freelance/assistant task/9 term/raw data/final/9TERM_ALL_STANDARDIZED.json\n",
      "Loaded 735 MEPs successfully.\n",
      "Loading MEP data from: C:/Users/Emilia/Documents/Uni Helsinki/Year Three/AMO Freelance/assistant task/10 term/raw data/29-10-2024/mep_assistants.json\n",
      "Loaded 719 MEPs successfully.\n",
      "                            name  \\\n",
      "0                Abir AL-SAHLANI   \n",
      "1                    Adam BIELAN   \n",
      "2                   Adam JARUBAS   \n",
      "3             Adina-Ioana VĂLEAN   \n",
      "4            Adrian-Dragoş BENEA   \n",
      "...                          ...   \n",
      "1449           Nicola ZINGARETTI   \n",
      "1450             Kosma ZŁOTOWSKI   \n",
      "1451  Juan Ignacio ZOIDO ÁLVAREZ   \n",
      "1452               Željana ZOVKO   \n",
      "1453                  Milan ZVER   \n",
      "\n",
      "                                                  party   country  \\\n",
      "0                                    Renew Europe Group    Sweden   \n",
      "1           European Conservatives and Reformists Group    Poland   \n",
      "2     Group of the European People's Party (Christia...    Poland   \n",
      "3     Group of the European People's Party (Christia...   Romania   \n",
      "4     Group of the Progressive Alliance of Socialist...   Romania   \n",
      "...                                                 ...       ...   \n",
      "1449  Group of the Progressive Alliance of Socialist...     Italy   \n",
      "1450        European Conservatives and Reformists Group    Poland   \n",
      "1451  Group of the European People's Party (Christia...     Spain   \n",
      "1452  Group of the European People's Party (Christia...   Croatia   \n",
      "1453  Group of the European People's Party (Christia...  Slovenia   \n",
      "\n",
      "     date_scraped                   assistants.Accredited assistants  \\\n",
      "0      2024-02-05  [Anna Sophia BENGTSSON, John August HULTENGAAR...   \n",
      "1      2019-09-22                                                NaN   \n",
      "2      2019-09-21  [Sylwia Joanna BETKOWSKA, Borys Maria BRZEZINS...   \n",
      "3      2019-10-31  [Razvan-Gheorghe MARC, Daniel-Alexandru NANCU,...   \n",
      "4      2019-09-03                  [Ilinca SOVA, Paula-Ramona TURCU]   \n",
      "...           ...                                                ...   \n",
      "1449          NaN  [Giovanni CRISANTI, SARA GJINI, Galileo Lorenz...   \n",
      "1450          NaN    [Tomasz BLACHOWICZ, Agnieszka Magdalena POREBA]   \n",
      "1451          NaN  [David BARRANCOS LARRAYOZ, JOSE ANTONIO MERAT ...   \n",
      "1452          NaN        [DARIA KNEŽEVIĆ, Andréa Laure Marie MOULIN]   \n",
      "1453          NaN          [Polona KEK, Petra SKRINJAR, Peter SUHEL]   \n",
      "\n",
      "                            assistants.Local assistants  \\\n",
      "0                                                   NaN   \n",
      "1     [Ignacy BOBRUK, Sebastian DABSKI, Zuzanna WANI...   \n",
      "2     [Tomasz DUDZINSKI, Kamila KACZOCHA, Andrzej LU...   \n",
      "3     [Iuliana Manuela BADANOIU, Andreea-Bianca GRIJ...   \n",
      "4                                                   NaN   \n",
      "...                                                 ...   \n",
      "1449                   [Giovanni BIAGI, Andrea PACELLA]   \n",
      "1450  [Maciej BOKIEJ, Pawel BOKIEJ, Angelika IMIOLEK...   \n",
      "1451                                                NaN   \n",
      "1452                                    [Barbara TOPIC]   \n",
      "1453                                                NaN   \n",
      "\n",
      "         assistants.Service providers  \\\n",
      "0                                 NaN   \n",
      "1                        [Jacek ZYLA]   \n",
      "2                                 NaN   \n",
      "3                                 NaN   \n",
      "4                                 NaN   \n",
      "...                               ...   \n",
      "1449                              NaN   \n",
      "1450                              NaN   \n",
      "1451                              NaN   \n",
      "1452  [EXCELLENTIA COLLECTIVE d.o.o.]   \n",
      "1453                              NaN   \n",
      "\n",
      "                               assistants.Paying agents  \\\n",
      "0                                                   NaN   \n",
      "1                                     [Joanna CHWASTEK]   \n",
      "2                         [PACTUM KANCELARIA FINANSOWA]   \n",
      "3     [ASAT CONSULTING (EX TAX ADVISORY & CONSULTING...   \n",
      "4                                                   NaN   \n",
      "...                                                 ...   \n",
      "1449                                    [Fabio SANTORO]   \n",
      "1450                                      [Marta RYBAK]   \n",
      "1451                                                NaN   \n",
      "1452                              [ZENIM PROMET D.O.O.]   \n",
      "1453                                   [ZDENKO VELE SP]   \n",
      "\n",
      "            assistants.Accredited assistants (grouping) assistants.Trainees  \\\n",
      "0                                                   NaN                 NaN   \n",
      "1                                                   NaN                 NaN   \n",
      "2                                     [Monika JAGIELLO]                 NaN   \n",
      "3                                      [Razvan HOINARU]                 NaN   \n",
      "4                                                   NaN                 NaN   \n",
      "...                                                 ...                 ...   \n",
      "1449  [Emiliano CIPOLLA, SILVIA DRAGONI, Carla MARCH...                 NaN   \n",
      "1450                                                NaN                 NaN   \n",
      "1451  [Maria De Los Reyes ARANDA GARCIA - ALBI, ANA ...                 NaN   \n",
      "1452                                                NaN                 NaN   \n",
      "1453                                   [Dominik STRAKL]                 NaN   \n",
      "\n",
      "     assistants.Local assistants (grouping)  \\\n",
      "0                                       NaN   \n",
      "1                                       NaN   \n",
      "2                                       NaN   \n",
      "3                                       NaN   \n",
      "4                                       NaN   \n",
      "...                                     ...   \n",
      "1449                                    NaN   \n",
      "1450                                    NaN   \n",
      "1451                                    NaN   \n",
      "1452                                    NaN   \n",
      "1453                                    NaN   \n",
      "\n",
      "     assistants.Paying agents (grouping)  term  \\\n",
      "0                                    NaN     9   \n",
      "1                                    NaN     9   \n",
      "2                                    NaN     9   \n",
      "3                                    NaN     9   \n",
      "4                                    NaN     9   \n",
      "...                                  ...   ...   \n",
      "1449                                 NaN    10   \n",
      "1450                                 NaN    10   \n",
      "1451                                 NaN    10   \n",
      "1452                                 NaN    10   \n",
      "1453                                 NaN    10   \n",
      "\n",
      "     assistants.Assistants to the Vice-Presidency/to the Quaestorate  \n",
      "0                                                   NaN               \n",
      "1                                                   NaN               \n",
      "2                                                   NaN               \n",
      "3                                                   NaN               \n",
      "4                                                   NaN               \n",
      "...                                                 ...               \n",
      "1449                                                NaN               \n",
      "1450                                   [Rafal KAMINSKI]               \n",
      "1451                                                NaN               \n",
      "1452                                                NaN               \n",
      "1453                                                NaN               \n",
      "\n",
      "[1454 rows x 14 columns]\n"
     ]
    }
   ],
   "source": [
    "# 1. Load JSON files for each term\n",
    "def load_mep_data(json_path):\n",
    "    \"\"\"Load MEP data from a JSON file.\"\"\"\n",
    "    print(f\"Loading MEP data from: {json_path}\")\n",
    "    if not os.path.exists(json_path):\n",
    "        print(f\"File not found: {json_path}\")\n",
    "        exit(1)\n",
    "    \n",
    "    try:\n",
    "        with open(json_path, \"r\", encoding=\"utf-8\") as f:\n",
    "            file_content = f.read().strip()  # Strip any extra whitespace\n",
    "            if not file_content:\n",
    "                raise ValueError(\"File is empty\")\n",
    "            \n",
    "            # Validate JSON by loading\n",
    "            meps_data = json.loads(file_content)  \n",
    "            print(f\"Loaded {len(meps_data)} MEPs successfully.\")\n",
    "            return meps_data\n",
    "    \n",
    "    except json.JSONDecodeError as e:\n",
    "        print(f\"JSON decode error at character {e.pos}: {e}\")\n",
    "    except ValueError as e:\n",
    "        print(f\"ValueError: {e}\")\n",
    "    except Exception as e:\n",
    "        print(f\"Failed to load MEP data: {e}\")\n",
    "    exit(1)\n",
    "\n",
    "# File paths (replace with your paths)\n",
    "data_9th_term = load_mep_data('C:/Users/Emilia/Documents/Uni Helsinki/Year Three/AMO Freelance/assistant task/9 term/raw data/final/9TERM_ALL_STANDARDIZED.json')\n",
    "data_10th_term = load_mep_data('C:/Users/Emilia/Documents/Uni Helsinki/Year Three/AMO Freelance/assistant task/10 term/raw data/29-10-2024/mep_assistants.json')\n",
    "\n",
    "# Convert data to DataFrame\n",
    "df_9th = pd.json_normalize(data_9th_term)\n",
    "df_9th['term'] = 9  # Add term info\n",
    "df_10th = pd.json_normalize(data_10th_term)\n",
    "df_10th['term'] = 10\n",
    "\n",
    "# Concatenate dataframes\n",
    "all_meps = pd.concat([df_9th, df_10th], ignore_index=True)\n",
    "print(all_meps)"
   ]
  },
  {
   "cell_type": "code",
   "execution_count": 4,
   "metadata": {},
   "outputs": [
    {
     "name": "stdout",
     "output_type": "stream",
     "text": [
      "Loading MEP data from: C:/Users/Emilia/Documents/Uni Helsinki/Year Three/AMO Freelance/assistant task/9 term/raw data/final/9TERM_ALL_STANDARDIZED.json\n",
      "Loaded 735 MEPs successfully.\n",
      "Loading MEP data from: C:/Users/Emilia/Documents/Uni Helsinki/Year Three/AMO Freelance/assistant task/10 term/raw data/29-10-2024/mep_assistants.json\n",
      "Loaded 719 MEPs successfully.\n",
      "Party: Group of the European People's Party (Christian Democrats)\n",
      "  Accredited assistants: 479\n",
      "  Accredited assistants (grouping): 689\n",
      "Party: Renew Europe Group\n",
      "  Accredited assistants: 208\n",
      "  Accredited assistants (grouping): 107\n",
      "Party: Group of the Progressive Alliance of Socialists and Democrats in the European Parliament\n",
      "  Accredited assistants: 274\n",
      "  Accredited assistants (grouping): 1172\n",
      "Party: European Conservatives and Reformists Group\n",
      "  Accredited assistants: 166\n",
      "  Accredited assistants (grouping): 58\n",
      "Party: Non-attached Members\n",
      "  Accredited assistants: 59\n",
      "  Accredited assistants (grouping): 22\n",
      "Party: Europe of Sovereign Nations Group\n",
      "  Accredited assistants: 48\n",
      "  Accredited assistants (grouping): 6\n",
      "Party: The Left group in the European Parliament - GUE/NGL\n",
      "  Accredited assistants: 113\n",
      "  Accredited assistants (grouping): 89\n",
      "Party: Group of the Greens/European Free Alliance\n",
      "  Accredited assistants: 122\n",
      "  Accredited assistants (grouping): 243\n",
      "Party: Patriots for Europe Group\n",
      "  Accredited assistants: 157\n",
      "  Accredited assistants (grouping): 229\n"
     ]
    }
   ],
   "source": [
    "SANITY_CHECK_9TERM = load_mep_data('C:/Users/Emilia/Documents/Uni Helsinki/Year Three/AMO Freelance/assistant task/9 term/raw data/final/9TERM_ALL_STANDARDIZED.json')\n",
    "SANITY_CHECK_10TERM = load_mep_data('C:/Users/Emilia/Documents/Uni Helsinki/Year Three/AMO Freelance/assistant task/10 term/raw data/29-10-2024/mep_assistants.json')\n",
    "\n",
    "# Initialize a dictionary to count assistants\n",
    "party_assistant_counts = {}\n",
    "\n",
    "# Iterate over each entry in the JSON data\n",
    "for entry in SANITY_CHECK_10TERM:\n",
    "    party = entry[\"party\"]\n",
    "    assistants = entry.get(\"assistants\", {})\n",
    "    \n",
    "    # Count accredited assistants\n",
    "    accredited_count = len(assistants.get(\"Accredited assistants\", []))\n",
    "    accredited_grouping_count = len(assistants.get(\"Accredited assistants (grouping)\", []))\n",
    "    \n",
    "    # Update the count in the party_assistant_counts dictionary\n",
    "    if party not in party_assistant_counts:\n",
    "        party_assistant_counts[party] = {\n",
    "            \"Accredited assistants\": 0,\n",
    "            \"Accredited assistants (grouping)\": 0\n",
    "        }\n",
    "    \n",
    "    party_assistant_counts[party][\"Accredited assistants\"] += accredited_count\n",
    "    party_assistant_counts[party][\"Accredited assistants (grouping)\"] += accredited_grouping_count\n",
    "\n",
    "# Print the results\n",
    "for party, counts in party_assistant_counts.items():\n",
    "    print(f\"Party: {party}\")\n",
    "    print(f\"  Accredited assistants: {counts['Accredited assistants']}\")\n",
    "    print(f\"  Accredited assistants (grouping): {counts['Accredited assistants (grouping)']}\")"
   ]
  },
  {
   "cell_type": "code",
   "execution_count": 5,
   "metadata": {},
   "outputs": [],
   "source": [
    "# keep only columns that we will use in analysis\n",
    "columns_to_keep = [\n",
    "    'name', \n",
    "    'party', \n",
    "    'country', \n",
    "    'term', \n",
    "    'assistants.Accredited assistants', \n",
    "    'assistants.Accredited assistants (grouping)'\n",
    "]\n",
    "\n",
    "# filter the DataFrame\n",
    "meps_apas = all_meps[columns_to_keep]\n",
    "\n",
    "# rename the columns by removing the 'assistants.' prefix\n",
    "meps_apas.columns = [col.replace('assistants.', '') for col in meps_apas.columns]"
   ]
  },
  {
   "cell_type": "markdown",
   "metadata": {},
   "source": [
    "# 2. CLEAN & STANDARDIZE"
   ]
  },
  {
   "cell_type": "markdown",
   "metadata": {},
   "source": [
    "### 2.1 Party names to abbreviations"
   ]
  },
  {
   "cell_type": "code",
   "execution_count": 6,
   "metadata": {},
   "outputs": [
    {
     "name": "stderr",
     "output_type": "stream",
     "text": [
      "C:\\Users\\Emilia\\AppData\\Local\\Temp\\ipykernel_22260\\4283556260.py:17: SettingWithCopyWarning: \n",
      "A value is trying to be set on a copy of a slice from a DataFrame.\n",
      "Try using .loc[row_indexer,col_indexer] = value instead\n",
      "\n",
      "See the caveats in the documentation: https://pandas.pydata.org/pandas-docs/stable/user_guide/indexing.html#returning-a-view-versus-a-copy\n",
      "  meps_apas.loc[:, 'group_abbrv'] = meps_apas['party'].map(party_abbreviations)\n"
     ]
    }
   ],
   "source": [
    "# Create a mapping dictionary for party names to abbreviations\n",
    "party_abbreviations = {\n",
    "    'Renew Europe Group': 'Renew',\n",
    "    'European Conservatives and Reformists Group': 'ECR',\n",
    "    \"Group of the European People's Party (Christian Democrats)\": 'EPP',\n",
    "    'Group of the Progressive Alliance of Socialists and Democrats in the European Parliament': 'S&D',\n",
    "    'Identity and Democracy Group': 'ID',\n",
    "    'Group of the Greens/European Free Alliance': 'G/EFA',\n",
    "    'Confederal Group of the European United Left - Nordic Green Left': 'GUE/NGL',\n",
    "    'Non-attached Members': 'NA',\n",
    "    'The Left group in the European Parliament - GUE/NGL': 'GUE/NGL',\n",
    "    'Group of the European United Left - Nordic Green Left': 'GUE/NGL',\n",
    "    'Patriots for Europe Group': 'PFE',\n",
    "    'Europe of Sovereign Nations Group': 'ESN'\n",
    "}\n",
    "\n",
    "meps_apas.loc[:, 'group_abbrv'] = meps_apas['party'].map(party_abbreviations)\n",
    "#print(meps_apas['party'].unique())\n",
    "#print(meps_apas['group_abbrv'].unique())\n"
   ]
  },
  {
   "cell_type": "markdown",
   "metadata": {},
   "source": [
    "### 2.3 Flatten & pivot (assistants are row level)"
   ]
  },
  {
   "cell_type": "code",
   "execution_count": 7,
   "metadata": {},
   "outputs": [
    {
     "name": "stdout",
     "output_type": "stream",
     "text": [
      "                         assistant_name         mep_name  group   country  \\\n",
      "0                 Anna Sophia BENGTSSON  Abir AL-SAHLANI  Renew    Sweden   \n",
      "1               John August HULTENGAARD  Abir AL-SAHLANI  Renew    Sweden   \n",
      "2                  Tyra Louise LUNDBERG  Abir AL-SAHLANI  Renew    Sweden   \n",
      "3     Linn Christina Brunhilde OETTERLI  Abir AL-SAHLANI  Renew    Sweden   \n",
      "4               Sylwia Joanna BETKOWSKA     Adam JARUBAS    EPP    Poland   \n",
      "...                                 ...              ...    ...       ...   \n",
      "7495          Andréa Laure Marie MOULIN    Željana ZOVKO    EPP   Croatia   \n",
      "7496                         Polona KEK       Milan ZVER    EPP  Slovenia   \n",
      "7497                     Petra SKRINJAR       Milan ZVER    EPP  Slovenia   \n",
      "7498                        Peter SUHEL       Milan ZVER    EPP  Slovenia   \n",
      "7499                     Dominik STRAKL       Milan ZVER    EPP  Slovenia   \n",
      "\n",
      "      term       assistant_type  \n",
      "0        9           accredited  \n",
      "1        9           accredited  \n",
      "2        9           accredited  \n",
      "3        9           accredited  \n",
      "4        9           accredited  \n",
      "...    ...                  ...  \n",
      "7495    10           accredited  \n",
      "7496    10           accredited  \n",
      "7497    10           accredited  \n",
      "7498    10           accredited  \n",
      "7499    10  accredited_grouping  \n",
      "\n",
      "[7500 rows x 6 columns]\n"
     ]
    }
   ],
   "source": [
    "# Function to extract relevant assistants with type information\n",
    "def extract_assistants(row):\n",
    "    assistants = []\n",
    "    # Define relevant groups and their corresponding types\n",
    "    assistant_groups = {\n",
    "        'Accredited assistants': 'accredited',\n",
    "        'Accredited assistants (grouping)': 'accredited_grouping'\n",
    "    }\n",
    "    \n",
    "    for group, assistant_type in assistant_groups.items():\n",
    "        # Check if the group exists in the row and is a list\n",
    "        if group in row and isinstance(row[group], list):\n",
    "            for name in row[group]:\n",
    "                assistants.append({\n",
    "                    'assistant_name': name,\n",
    "                    'mep_name': row['name'],\n",
    "                    'group': row['group_abbrv'],\n",
    "                    'country': row['country'],\n",
    "                    'term': row['term'],\n",
    "                    'assistant_type': assistant_type  # Add assistant type\n",
    "                })\n",
    "    return assistants\n",
    "\n",
    "# Flatten assistants for easier comparison\n",
    "assistant_data = pd.DataFrame(\n",
    "    [item for sublist in meps_apas.apply(extract_assistants, axis=1) for item in sublist]\n",
    ")\n",
    "print(assistant_data)"
   ]
  },
  {
   "cell_type": "markdown",
   "metadata": {},
   "source": [
    "### 2.3 Remove duplicate assistant names in same term"
   ]
  },
  {
   "cell_type": "code",
   "execution_count": 8,
   "metadata": {},
   "outputs": [
    {
     "name": "stdout",
     "output_type": "stream",
     "text": [
      "Similar assistant names for the same MEP in the same term:\n",
      "Michal MOJTO and Michaela MOJTOVÁ for Monika BEŇOVÁ are similar.\n",
      "Michal MOJTO and Michaela MOJTOVÁ for Monika BEŇOVÁ are similar.\n",
      "Michal MOJTO and Michaela MOJTOVÁ for Erik KALIŇÁK are similar.\n",
      "                         assistant_name         mep_name  group   country  \\\n",
      "0                 Anna Sophia BENGTSSON  Abir AL-SAHLANI  Renew    Sweden   \n",
      "1               John August HULTENGAARD  Abir AL-SAHLANI  Renew    Sweden   \n",
      "2                  Tyra Louise LUNDBERG  Abir AL-SAHLANI  Renew    Sweden   \n",
      "3     Linn Christina Brunhilde OETTERLI  Abir AL-SAHLANI  Renew    Sweden   \n",
      "4               Sylwia Joanna BETKOWSKA     Adam JARUBAS    EPP    Poland   \n",
      "...                                 ...              ...    ...       ...   \n",
      "7495          Andréa Laure Marie MOULIN    Željana ZOVKO    EPP   Croatia   \n",
      "7496                         Polona KEK       Milan ZVER    EPP  Slovenia   \n",
      "7497                     Petra SKRINJAR       Milan ZVER    EPP  Slovenia   \n",
      "7498                        Peter SUHEL       Milan ZVER    EPP  Slovenia   \n",
      "7499                     Dominik STRAKL       Milan ZVER    EPP  Slovenia   \n",
      "\n",
      "      term       assistant_type  \n",
      "0        9           accredited  \n",
      "1        9           accredited  \n",
      "2        9           accredited  \n",
      "3        9           accredited  \n",
      "4        9           accredited  \n",
      "...    ...                  ...  \n",
      "7495    10           accredited  \n",
      "7496    10           accredited  \n",
      "7497    10           accredited  \n",
      "7498    10           accredited  \n",
      "7499    10  accredited_grouping  \n",
      "\n",
      "[7500 rows x 6 columns]\n"
     ]
    }
   ],
   "source": [
    "# FIRST REMAP THE NAMES\n",
    "from fuzzywuzzy import fuzz\n",
    "\n",
    "def find_similar_names(df, same_term=True):\n",
    "    similar_pairs = []\n",
    "\n",
    "    # Iterate through each MEP\n",
    "    for mep in df['mep_name'].unique():\n",
    "        # Filter for the current MEP\n",
    "        if same_term:\n",
    "            mep_data = df[df['mep_name'] == mep]\n",
    "        else:\n",
    "            mep_data = df[df['mep_name'] == mep]  # No term filter for this case\n",
    "\n",
    "        names = mep_data['assistant_name'].tolist()\n",
    "\n",
    "        # Check for similarity between each pair of assistant names\n",
    "        for i in range(len(names)):\n",
    "            for j in range(i + 1, len(names)):\n",
    "                # Calculate similarity score\n",
    "                score = fuzz.ratio(names[i].lower(), names[j].lower())\n",
    "                \n",
    "                # Adjusting the threshold between 90 and 99\n",
    "                if 85 <= score < 100:  # Use the desired range here\n",
    "                    similar_pairs.append((names[i], names[j], mep))\n",
    "\n",
    "    return similar_pairs\n",
    "\n",
    "# create remapping based on similar names\n",
    "name_mapping = {\n",
    "    \"Magdalena NOWACKA\": \"Magdalena HILLS-NOWACKA\", \n",
    "    \"PAULA SENDIN RODRIGUEZ\": \"Paula SENDÍN RODRIGUEZ\",\n",
    "    \"Eleonora Nikolaycheva GUIGOVA\": \"Eleonora Nikolaycheva GUIGOVA-NOSKER\",\n",
    "    \"Eleonora Nikolaycheva GUIGOVA-NOSKER\": \"Eleonora Nikolaycheva GUIGOVA-NOSKER\",\n",
    "    \"Stefanie SIFFT\": \"Stefanie SIFFT\",\n",
    "    \"Stefanie Gabi SIFFT\": \"Stefanie SIFFT\",\n",
    "    \"Anne-Cecile Juliette GAULT\": \"Anne-Cecile Juliette GAULT\",\n",
    "    \"Anne-Cecile Juliette Rachel GAULT\": \"Anne-Cecile Juliette GAULT\",\n",
    "    \"Sophie Anne Geraldine Marie GUIL\": \"Sophie Anne Geraldine Marie GUIL\",\n",
    "    \"Sophie Anne Geraldine Marie Genevieve GUIL\": \"Sophie Anne Geraldine Marie GUIL\",\n",
    "    \"Ana LOPEZ GONZALEZ\": \"ANA LÓPEZ GONZÁLEZ\",\n",
    "    \"ANA LÓPEZ GONZÁLEZ\": \"ANA LÓPEZ GONZÁLEZ\",\n",
    "    \"Claudia MARTINEZ MUNOZ\": \"Claudia MARTÍNEZ MUÑOZ\",\n",
    "    \"CLAUDIA MARTÍNEZ MUÑOZ\": \"Claudia MARTÍNEZ MUÑOZ\",\n",
    "    \"Maria Mercedes GARCIA MUNOZ\": \"MARIA MERCEDES GARCIA MUÑOZ\",\n",
    "    \"MARIA MERCEDES GARCIA MUÑOZ\": \"MARIA MERCEDES GARCIA MUÑOZ\",\n",
    "    \"Gilles Willy B SEGERS\": \"GILLES WILLY SEGERS\",\n",
    "    \"GILLES WILLY SEGERS\": \"GILLES WILLY SEGERS\",\n",
    "    \"Magdalena GONZALEZ GOZALBO\": \"Maria Magdalena GONZALEZ GOZALBO\",\n",
    "    \"Maria Magdalena GONZALEZ GOZALBO\": \"Maria Magdalena GONZALEZ GOZALBO\",\n",
    "    \"Arturo VILLARROYA GONZALEZ\": \"Arturo VILLARROYA GONZÁLEZ\",\n",
    "    \"Fernando Jose NUNEZ ROBRES PATINO\": \"Fernando Jose NUNEZ-ROBRES PATINO\",\n",
    "    \"Fernando Jose NUNEZ-ROBRES PATINO\": \"Fernando Jose NUNEZ-ROBRES PATINO\",\n",
    "    \"Bibiana CARRETO PEREZ BARBADILLO\": \"BIBIANA CARRETO PÉREZ BARBADILLO\",\n",
    "    \"BIBIANA CARRETO PÉREZ BARBADILLO\": \"BIBIANA CARRETO PÉREZ BARBADILLO\",\n",
    "    \"Magdalena GONZALEZ GOZALBO\": \"Maria Magdalena GONZALEZ GOZALBO\",\n",
    "    \"PAULA SENDIN RODRIGUEZ\": \"Paula SENDÍN RODRIGUEZ\",\n",
    "    \"Paula SENDIN RODRIGUEZ\": \"Paula SENDÍN RODRIGUEZ\",\n",
    "    \"MARIA MERCEDES GARCIA MUNOZ\": \"MARIA MERCEDES GARCIA MUÑOZ\", \n",
    "    \"ARTURO VILLARROYA GONZALEZ\": \"Arturo VILLARROYA GONZÁLEZ\",\n",
    "    \"ARTURO VILLARROYA GONZALEZ\":\"Arturo VILLARROYA GONZÁLEZ\"\n",
    "}\n",
    "\n",
    "# remap \n",
    "assistant_data['assistant_name'] = assistant_data['assistant_name'].replace(name_mapping)\n",
    "\n",
    "# Find similar names considering only the same term\n",
    "similar_names_same_term = find_similar_names(assistant_data, same_term=True)\n",
    "print(\"Similar assistant names for the same MEP in the same term:\")\n",
    "for name1, name2, mep in similar_names_same_term:\n",
    "    print(f\"{name1} and {name2} for {mep} are similar.\")\n",
    "\n",
    "print(assistant_data)"
   ]
  },
  {
   "cell_type": "code",
   "execution_count": 9,
   "metadata": {},
   "outputs": [
    {
     "name": "stdout",
     "output_type": "stream",
     "text": [
      "                         assistant_name         mep_name  group   country  \\\n",
      "0                 Anna Sophia BENGTSSON  Abir AL-SAHLANI  Renew    Sweden   \n",
      "1               John August HULTENGAARD  Abir AL-SAHLANI  Renew    Sweden   \n",
      "2                  Tyra Louise LUNDBERG  Abir AL-SAHLANI  Renew    Sweden   \n",
      "3     Linn Christina Brunhilde OETTERLI  Abir AL-SAHLANI  Renew    Sweden   \n",
      "4               Sylwia Joanna BETKOWSKA     Adam JARUBAS    EPP    Poland   \n",
      "...                                 ...              ...    ...       ...   \n",
      "7495          Andréa Laure Marie MOULIN    Željana ZOVKO    EPP   Croatia   \n",
      "7496                         Polona KEK       Milan ZVER    EPP  Slovenia   \n",
      "7497                     Petra SKRINJAR       Milan ZVER    EPP  Slovenia   \n",
      "7498                        Peter SUHEL       Milan ZVER    EPP  Slovenia   \n",
      "7499                     Dominik STRAKL       Milan ZVER    EPP  Slovenia   \n",
      "\n",
      "      term       assistant_type  \n",
      "0        9           accredited  \n",
      "1        9           accredited  \n",
      "2        9           accredited  \n",
      "3        9           accredited  \n",
      "4        9           accredited  \n",
      "...    ...                  ...  \n",
      "7495    10           accredited  \n",
      "7496    10           accredited  \n",
      "7497    10           accredited  \n",
      "7498    10           accredited  \n",
      "7499    10  accredited_grouping  \n",
      "\n",
      "[7464 rows x 6 columns]\n"
     ]
    }
   ],
   "source": [
    "# THEN REMOVE ANY EXACT MATCHES \n",
    "# Find exact matches within each MEP category\n",
    "# Find exact matches within each MEP and term\n",
    "def find_exact_matches(df):\n",
    "    exact_matches = {}\n",
    "\n",
    "    # Group by 'mep_name' and 'term' and find duplicates in 'remapped_name'\n",
    "    for (mep, term), group in df.groupby(['mep_name', 'term']):\n",
    "        duplicates = group['assistant_name'].value_counts()\n",
    "        # Only keep names that occur more than once\n",
    "        duplicate_names = duplicates[duplicates > 1].index.tolist()\n",
    "        \n",
    "        if duplicate_names:\n",
    "            exact_matches[(mep, term)] = duplicate_names\n",
    "\n",
    "    return exact_matches\n",
    "\n",
    "# Get exact matches\n",
    "exact_matches = find_exact_matches(assistant_data)\n",
    "\n",
    "# Print out exact matches\n",
    "#print(\"Exact matches in MEP categories (for the same term):\")\n",
    "#for (mep, term), names in exact_matches.items():\n",
    "#    print(f\"\\nMEP: {mep} | Term: {term}\")\n",
    "#    for name in names:\n",
    "#        print(f\" - {name}\")\n",
    "\n",
    "# remove duplicates \n",
    "unique_meps_apas = assistant_data.drop_duplicates(subset=['mep_name', 'term', 'assistant_name'])\n",
    "print(unique_meps_apas)\n"
   ]
  },
  {
   "cell_type": "markdown",
   "metadata": {},
   "source": [
    "# 3. Summary Tables"
   ]
  },
  {
   "cell_type": "code",
   "execution_count": 10,
   "metadata": {},
   "outputs": [
    {
     "data": {
      "image/png": "[encoded data removed]",
      "text/plain": [
       "<Figure size 1200x800 with 2 Axes>"
      ]
     },
     "metadata": {},
     "output_type": "display_data"
    },
    {
     "data": {
      "image/png": "[encoded data removed]",
      "text/plain": [
       "<Figure size 1200x800 with 2 Axes>"
      ]
     },
     "metadata": {},
     "output_type": "display_data"
    }
   ],
   "source": [
    "import pandas as pd\n",
    "import seaborn as sns\n",
    "import matplotlib.pyplot as plt\n",
    "\n",
    "# Filter for terms 9 and 10\n",
    "term_data = unique_meps_apas[unique_meps_apas['term'].isin([9, 10])]\n",
    "\n",
    "# Function to create transition matrix for a specific assistant type\n",
    "def create_transition_matrix(assistant_type):\n",
    "    # Step 1: Filter for the specific assistant type\n",
    "    filtered_data = term_data[term_data['assistant_type'] == assistant_type]\n",
    "    \n",
    "    # Step 2: Get assistants for term 9 and term 10\n",
    "    term_9 = filtered_data[filtered_data['term'] == 9]\n",
    "    term_10 = filtered_data[filtered_data['term'] == 10]\n",
    "\n",
    "    # Step 3: Merge both DataFrames on assistant_name\n",
    "    merged = term_9[['assistant_name', 'group']].merge(term_10[['assistant_name', 'group']], on='assistant_name', suffixes=('_9', '_10'))\n",
    "\n",
    "    # Step 4: Count transitions from term 9 to term 10\n",
    "    transition_counts = merged.groupby(['group_9', 'group_10']).size().reset_index(name='counts')\n",
    "\n",
    "    # Step 5: Create a transition matrix\n",
    "    transition_matrix = transition_counts.pivot(index='group_9', columns='group_10', values='counts').fillna(0)\n",
    "\n",
    "    # Optional: Convert counts to integers if needed\n",
    "    transition_matrix = transition_matrix.astype(int)\n",
    "\n",
    "    return transition_matrix\n",
    "\n",
    "# Create transition matrices for both types of assistants\n",
    "accredited_transition_matrix = create_transition_matrix('accredited')\n",
    "accredited_grouping_transition_matrix = create_transition_matrix('accredited_grouping')\n",
    "\n",
    "# Visualization of the Transition Matrix for Accredited Assistants\n",
    "plt.figure(figsize=(12, 8))\n",
    "sns.heatmap(accredited_transition_matrix, annot=True, fmt='d', cmap='YlGnBu')\n",
    "plt.title('Group Transition Matrix for Accredited Assistants (9th to 10th Term)')\n",
    "plt.xlabel('Group in Term 10')\n",
    "plt.ylabel('Group in Term 9')\n",
    "plt.show()\n",
    "\n",
    "# Visualization of the Transition Matrix for Accredited Assistants Grouping\n",
    "plt.figure(figsize=(12, 8))\n",
    "sns.heatmap(accredited_grouping_transition_matrix, annot=True, fmt='d', cmap='YlGnBu')\n",
    "plt.title('Group Transition Matrix for Accredited Assistants Grouping (9th to 10th Term)')\n",
    "plt.xlabel('Group in Term 10')\n",
    "plt.ylabel('Group in Term 9')\n",
    "plt.show()"
   ]
  },
  {
   "cell_type": "code",
   "execution_count": 11,
   "metadata": {},
   "outputs": [
    {
     "data": {
      "image/png": "[encoded data removed]",
      "text/plain": [
       "<Figure size 1200x800 with 2 Axes>"
      ]
     },
     "metadata": {},
     "output_type": "display_data"
    },
    {
     "data": {
      "image/png": "[encoded data removed]",
      "text/plain": [
       "<Figure size 1200x800 with 2 Axes>"
      ]
     },
     "metadata": {},
     "output_type": "display_data"
    }
   ],
   "source": [
    "import pandas as pd\n",
    "import seaborn as sns\n",
    "import matplotlib.pyplot as plt\n",
    "\n",
    "# Filter for terms 9 and 10\n",
    "term_data = unique_meps_apas[unique_meps_apas['term'].isin([9, 10])]\n",
    "\n",
    "# Function to create country transition matrix for a specific assistant type\n",
    "def create_country_transition_matrix(assistant_type):\n",
    "    # Step 1: Filter for the specific assistant type\n",
    "    filtered_data = term_data[term_data['assistant_type'] == assistant_type]\n",
    "    \n",
    "    # Step 2: Get assistants for term 9 and term 10\n",
    "    term_9 = filtered_data[filtered_data['term'] == 9]\n",
    "    term_10 = filtered_data[filtered_data['term'] == 10]\n",
    "\n",
    "    # Step 3: Merge both DataFrames on assistant_name\n",
    "    merged = term_9[['assistant_name', 'country']].merge(term_10[['assistant_name', 'country']], on='assistant_name', suffixes=('_9', '_10'))\n",
    "\n",
    "    # Step 4: Count transitions from term 9 to term 10\n",
    "    transition_counts = merged.groupby(['country_9', 'country_10']).size().reset_index(name='counts')\n",
    "\n",
    "    # Step 5: Create a transition matrix\n",
    "    transition_matrix = transition_counts.pivot(index='country_9', columns='country_10', values='counts').fillna(0)\n",
    "\n",
    "    # Optional: Convert counts to integers if needed\n",
    "    transition_matrix = transition_matrix.astype(int)\n",
    "\n",
    "    return transition_matrix\n",
    "\n",
    "# Create transition matrices for both types of assistants\n",
    "accredited_country_transition_matrix = create_country_transition_matrix('accredited')\n",
    "accredited_grouping_country_transition_matrix = create_country_transition_matrix('accredited_grouping')\n",
    "\n",
    "# Visualization of the Transition Matrix for Accredited Assistants\n",
    "plt.figure(figsize=(12, 8))\n",
    "sns.heatmap(accredited_country_transition_matrix, annot=True, fmt='d', cmap='YlGnBu')\n",
    "plt.title('Country Transition Matrix for Accredited Assistants (9th to 10th Term)')\n",
    "plt.xlabel('Country in Term 10')\n",
    "plt.ylabel('Country in Term 9')\n",
    "plt.show()\n",
    "\n",
    "# Visualization of the Transition Matrix for Accredited Assistants Grouping\n",
    "plt.figure(figsize=(12, 8))\n",
    "sns.heatmap(accredited_grouping_country_transition_matrix, annot=True, fmt='d', cmap='YlGnBu')\n",
    "plt.title('Country Transition Matrix for Accredited Assistants Grouping (9th to 10th Term)')\n",
    "plt.xlabel('Country in Term 10')\n",
    "plt.ylabel('Country in Term 9')\n",
    "plt.show()"
   ]
  },
  {
   "cell_type": "markdown",
   "metadata": {},
   "source": [
    "### 3.1 Summary of movement (b/w MEPs that were in both 9th and 10th term)"
   ]
  },
  {
   "cell_type": "markdown",
   "metadata": {},
   "source": [
    "#### 3.1.1 Sanity Check"
   ]
  },
  {
   "cell_type": "code",
   "execution_count": 12,
   "metadata": {},
   "outputs": [
    {
     "name": "stdout",
     "output_type": "stream",
     "text": [
      "Loading MEP data from: C:/Users/Emilia/Documents/Uni Helsinki/Year Three/AMO Freelance/assistant task/9 term/raw data/final/9TERM_ALL_STANDARDIZED.json\n",
      "Loaded 735 MEPs successfully.\n",
      "Loading MEP data from: C:/Users/Emilia/Documents/Uni Helsinki/Year Three/AMO Freelance/assistant task/10 term/raw data/29-10-2024/mep_assistants.json\n",
      "Loaded 719 MEPs successfully.\n",
      "Party: Renew Europe Group, Term 9: 310, Term 10: 315\n",
      "Party: European Conservatives and Reformists Group, Term 9: 143, Term 10: 224\n",
      "Party: Group of the European People's Party (Christian Democrats), Term 9: 751, Term 10: 1168\n",
      "Party: Group of the Progressive Alliance of Socialists and Democrats in the European Parliament, Term 9: 1281, Term 10: 1446\n",
      "Party: Identity and Democracy Group, Term 9: 139, Term 10: 0\n",
      "Party: Group of the Greens/European Free Alliance, Term 9: 318, Term 10: 365\n",
      "Party: Confederal Group of the European United Left - Nordic Green Left, Term 9: 49, Term 10: 0\n",
      "Party: Non-attached Members, Term 9: 150, Term 10: 81\n",
      "Party: The Left group in the European Parliament - GUE/NGL, Term 9: 38, Term 10: 202\n",
      "Party: Group of the European United Left - Nordic Green Left, Term 9: 15, Term 10: 0\n",
      "Party: Patriots for Europe Group, Term 9: 65, Term 10: 386\n",
      "Party: Europe of Sovereign Nations Group, Term 9: 0, Term 10: 54\n"
     ]
    }
   ],
   "source": [
    "# Load data for both terms\n",
    "SANITY_CHECK_9TERM = load_mep_data('C:/Users/Emilia/Documents/Uni Helsinki/Year Three/AMO Freelance/assistant task/9 term/raw data/final/9TERM_ALL_STANDARDIZED.json')\n",
    "SANITY_CHECK_10TERM = load_mep_data('C:/Users/Emilia/Documents/Uni Helsinki/Year Three/AMO Freelance/assistant task/10 term/raw data/29-10-2024/mep_assistants.json')\n",
    "\n",
    "# Initialize a dictionary to count total assistants\n",
    "total_assistant_counts = {}\n",
    "\n",
    "# Function to count assistants from the data\n",
    "def count_assistants(data, term):\n",
    "    for entry in data:\n",
    "        party = entry[\"party\"]\n",
    "        assistants = entry.get(\"assistants\", {})\n",
    "        \n",
    "        # Count accredited assistants\n",
    "        accredited_count = len(assistants.get(\"Accredited assistants\", [])) + len(assistants.get(\"Accredited assistants (grouping)\", []))\n",
    "        \n",
    "        # Initialize party in dictionary if not already present\n",
    "        if party not in total_assistant_counts:\n",
    "            total_assistant_counts[party] = {\"term_9\": 0, \"term_10\": 0}\n",
    "        \n",
    "        # Update the count for the respective term\n",
    "        if term == 9:\n",
    "            total_assistant_counts[party][\"term_9\"] += accredited_count\n",
    "        elif term == 10:\n",
    "            total_assistant_counts[party][\"term_10\"] += accredited_count\n",
    "\n",
    "# Count assistants for both terms\n",
    "count_assistants(SANITY_CHECK_9TERM, term=9)\n",
    "count_assistants(SANITY_CHECK_10TERM, term=10)\n",
    "\n",
    "# Debugging: Print total assistants for each party\n",
    "for party, counts in total_assistant_counts.items():\n",
    "    print(f\"Party: {party}, Term 9: {counts['term_9']}, Term 10: {counts['term_10']}\")"
   ]
  },
  {
   "cell_type": "markdown",
   "metadata": {},
   "source": [
    "#### 3.1.2 Calculation"
   ]
  },
  {
   "cell_type": "code",
   "execution_count": 13,
   "metadata": {},
   "outputs": [
    {
     "name": "stdout",
     "output_type": "stream",
     "text": [
      "     group  total_assistants_9  total_assistants_10  assistant_difference  \\\n",
      "0      ECR                51.0                 74.0                 -23.0   \n",
      "1      EPP               444.0                614.0                -170.0   \n",
      "2    G/EFA               170.0                206.0                 -36.0   \n",
      "3  GUE/NGL                45.0                 41.0                   4.0   \n",
      "4       NA                 4.0                  7.0                  -3.0   \n",
      "5      PFE                63.0                 52.0                  11.0   \n",
      "6    Renew               121.0                150.0                 -29.0   \n",
      "7      S&D               802.0                715.0                  87.0   \n",
      "\n",
      "   proportion_difference  \n",
      "0              -0.450980  \n",
      "1              -0.382883  \n",
      "2              -0.211765  \n",
      "3               0.088889  \n",
      "4              -0.750000  \n",
      "5               0.174603  \n",
      "6              -0.239669  \n",
      "7               0.108479  \n"
     ]
    }
   ],
   "source": [
    "# Filter the DataFrame for terms 9 and 10\n",
    "term_9 = unique_meps_apas[unique_meps_apas['term'] == 9]\n",
    "term_10 = unique_meps_apas[unique_meps_apas['term'] == 10]\n",
    "\n",
    "# Group by MEP and group for each term to count assistants, ensuring unique combinations\n",
    "term_9_grouped = term_9.groupby(['mep_name', 'group']).agg(assistant_count_9=('assistant_name', 'count')).reset_index()\n",
    "term_10_grouped = term_10.groupby(['mep_name', 'group']).agg(assistant_count_10=('assistant_name', 'count')).reset_index()\n",
    "\n",
    "# Merge the two dataframes on MEP name and group to create a transition table\n",
    "transition_df = pd.merge(term_9_grouped, term_10_grouped, on=['mep_name', 'group'], how='outer')\n",
    "\n",
    "# Create transition summary\n",
    "transition_summary = []\n",
    "\n",
    "# Loop through unique groups in term 9\n",
    "for group_9 in transition_df['group'].unique():\n",
    "    group_9_assistants = transition_df[transition_df['group'] == group_9]\n",
    "    \n",
    "    # Loop through unique groups in term 10\n",
    "    for group_10 in transition_df['group'].unique():\n",
    "        # Count how many moved from group_9 to group_10\n",
    "        count = group_9_assistants['assistant_count_9'].sum() if (group_9_assistants['assistant_count_10'] > 0).any() else 0\n",
    "        transition_summary.append({\n",
    "            'group_9': group_9,\n",
    "            'group_10': group_10,\n",
    "            'counts': count\n",
    "        })\n",
    "\n",
    "# Remove rows with NaN in either assistant_count_9 or assistant_count_10\n",
    "transition_df = transition_df.dropna(subset=['assistant_count_9', 'assistant_count_10'])\n",
    "\n",
    "# Step 1: Calculate total assistants for each group in both terms\n",
    "total_assistants_term_9 = transition_df.groupby('group')['assistant_count_9'].sum().reset_index()\n",
    "total_assistants_term_9.rename(columns={'assistant_count_9': 'total_assistants_9'}, inplace=True)\n",
    "\n",
    "total_assistants_term_10 = transition_df.groupby('group')['assistant_count_10'].sum().reset_index()\n",
    "total_assistants_term_10.rename(columns={'assistant_count_10': 'total_assistants_10'}, inplace=True)\n",
    "\n",
    "# Step 2: Merge the totals into a single DataFrame\n",
    "total_assistants = pd.merge(total_assistants_term_9, total_assistants_term_10, on='group', how='outer')\n",
    "\n",
    "# Step 3: Calculate the difference and the proportion\n",
    "total_assistants['assistant_difference'] = total_assistants['total_assistants_9'] - total_assistants['total_assistants_10']\n",
    "total_assistants['proportion_difference'] = total_assistants['assistant_difference'] / total_assistants['total_assistants_9']\n",
    "\n",
    "# Handle division by zero\n",
    "total_assistants['proportion_difference'] = total_assistants.apply(\n",
    "    lambda row: row['proportion_difference'] if row['total_assistants_9'] > 0 else None, axis=1\n",
    ")\n",
    "\n",
    "# Display the results\n",
    "print(total_assistants[['group', 'total_assistants_9', 'total_assistants_10', 'assistant_difference', 'proportion_difference']])\n"
   ]
  },
  {
   "cell_type": "markdown",
   "metadata": {},
   "source": [
    "#### 3.1.3 Plotting"
   ]
  },
  {
   "cell_type": "code",
   "execution_count": 14,
   "metadata": {},
   "outputs": [
    {
     "data": {
      "image/png": "[encoded data removed]",
      "text/plain": [
       "<Figure size 1200x600 with 1 Axes>"
      ]
     },
     "metadata": {},
     "output_type": "display_data"
    }
   ],
   "source": [
    "import pandas as pd\n",
    "import matplotlib.pyplot as plt\n",
    "import seaborn as sns\n",
    "\n",
    "# Assuming your DataFrame is named `group_data`\n",
    "plt.figure(figsize=(12, 6))\n",
    "bar_width = 0.35\n",
    "x = range(len(total_assistants))\n",
    "\n",
    "# Create the bars\n",
    "plt.bar(x, total_assistants['total_assistants_9'], width=bar_width, label='Term 9', color='lightblue')\n",
    "plt.bar([p + bar_width for p in x], total_assistants['total_assistants_10'], width=bar_width, label='Term 10', color='salmon')\n",
    "\n",
    "# Add labels and title\n",
    "plt.xlabel('Political Group')\n",
    "plt.ylabel('Total Assistants')\n",
    "plt.title('Total Assistants per Political Group for Terms 9 and 10')\n",
    "plt.xticks([p + bar_width / 2 for p in x], total_assistants['group'])\n",
    "plt.legend()\n",
    "\n",
    "# Add footnote using fig.text()\n",
    "plt.gcf().text(0.5, -0.05, \n",
    "                'Note: These figures only include MEPs that were present in both the 9th and 10th terms (and had their data scraped).',\n",
    "                ha='center', fontsize=10, color='black', va='top')\n",
    "\n",
    "# Show the plot\n",
    "plt.tight_layout()\n",
    "plt.show()"
   ]
  },
  {
   "cell_type": "markdown",
   "metadata": {},
   "source": [
    "## 4. Create Network Graph"
   ]
  },
  {
   "cell_type": "code",
   "execution_count": 15,
   "metadata": {},
   "outputs": [
    {
     "data": {
      "application/vnd.plotly.v1+json": {
       "config": {
        "plotlyServerURL": "https://plot.ly"
       },
       "data": [
        {
         "hoverinfo": "text",
         "marker": {
          "color": [
           "yellow",
           "lightgray",
           "lightgray",
           "lightgray",
           "lightgray",
           "blue",
           "lightgray",
           "lightgray",
           "lightgray",
           "lightgray",
           "blue",
           "lightgray",
           "lightgray",
           "lightgray",
           "lightgray",
           "red",
           "lightgray",
           "lightgray",
           "red",
           "lightgray",
           "lightgray",
           "lightgray",
           "lightgray",
           "lightgray",
           "lightgray",
           "lightgray",
           "blue",
           "lightgray",
           "lightgray",
           "lightgray",
           "lightgray",
           "black",
           "lightgray",
           "lightgray",
           "purple",
           "lightgray",
           "lightgray",
           "red",
           "lightgray",
           "lightgray",
           "lightgray",
           "lightgray",
           "lightgray",
           "lightgray",
           "lightgray",
           "blue",
           "lightgray",
           "lightgray",
           "lightgray",
           "purple",
           "lightgray",
           "blue",
           "lightgray",
           "lightgray",
           "orange",
           "lightgray",
           "lightgray",
           "black",
           "lightgray",
           "lightgray",
           "lightgray",
           "lightgray",
           "black",
           "lightgray",
           "lightgray",
           "pink",
           "lightgray",
           "lightgray",
           "red",
           "lightgray",
           "lightgray",
           "black",
           "lightgray",
           "lightgray",
           "lightgray",
           "lightgray",
           "lightgray",
           "lightgray",
           "lightgray",
           "lightgray",
           "lightgray",
           "lightgray",
           "lightgray",
           "lightgray",
           "yellow",
           "lightgray",
           "lightgray",
           "lightgray",
           "black",
           "lightgray",
           "lightgray",
           "lightgray",
           "lightgray",
           "lightgray",
           "lightgray",
           "lightgray",
           "lightgray",
           "lightgray",
           "lightgray",
           "lightgray",
           "lightgray",
           "lightgray",
           "lightgray",
           "lightgray",
           "lightgray",
           "lightgray",
           "lightgray",
           "lightgray",
           "lightgray",
           "lightgray",
           "lightgray",
           "lightgray",
           "lightgray",
           "lightgray",
           "lightgray",
           "lightgray",
           "lightgray",
           "lightgray",
           "lightgray"
          ],
          "line": {
           "width": 2
          },
          "size": [
           26,
           0,
           0,
           0,
           0,
           32,
           0,
           0,
           0,
           0,
           17,
           0,
           0,
           0,
           0,
           20,
           0,
           0,
           26,
           0,
           0,
           0,
           0,
           0,
           0,
           0,
           17,
           0,
           0,
           0,
           0,
           17,
           0,
           0,
           11,
           0,
           0,
           44,
           0,
           0,
           0,
           0,
           0,
           0,
           0,
           14,
           0,
           0,
           0,
           8,
           0,
           20,
           0,
           0,
           26,
           0,
           0,
           38,
           0,
           0,
           0,
           0,
           11,
           0,
           0,
           11,
           0,
           0,
           11,
           0,
           0,
           80,
           0,
           0,
           0,
           0,
           0,
           0,
           0,
           0,
           0,
           0,
           0,
           0,
           14,
           0,
           0,
           0,
           8,
           0,
           0,
           0,
           0,
           0,
           0,
           0,
           0,
           0,
           0,
           0,
           0,
           0,
           0,
           0,
           0,
           0,
           0,
           0,
           0,
           0,
           0,
           0,
           0,
           0,
           0,
           0,
           0,
           0,
           0
          ]
         },
         "mode": "markers+text",
         "text": [
          "Abir AL-SAHLANI\n(Assistants: 7)",
          "",
          "",
          "",
          "",
          "Adam JARUBAS\n(Assistants: 9)",
          "",
          "",
          "",
          "",
          "Adina-Ioana VĂLEAN\n(Assistants: 4)",
          "",
          "",
          "",
          "",
          "Adrian-Dragoş BENEA\n(Assistants: 5)",
          "",
          "",
          "Agnes JONGERIUS\n(Assistants: 7)",
          "",
          "",
          "",
          "",
          "",
          "",
          "",
          "Agnès EVREN\n(Assistants: 4)",
          "",
          "",
          "",
          "",
          "Aldo PATRICIELLO\n(Assistants: 4)",
          "",
          "",
          "Alessandra BASSO\n(Assistants: 2)",
          "",
          "",
          "Alessandra MORETTI\n(Assistants: 13)",
          "",
          "",
          "",
          "",
          "",
          "",
          "",
          "Alessandra MUSSOLINI\n(Assistants: 3)",
          "",
          "",
          "",
          "Alessandro PANZA",
          "",
          "Alexander BERNHUBER\n(Assistants: 5)",
          "",
          "",
          "Alexandr VONDRA\n(Assistants: 7)",
          "",
          "",
          "Alexandra GEESE\n(Assistants: 11)",
          "",
          "",
          "",
          "",
          "Alexandra Louise Rosenfield PHILLIPS\n(Assistants: 2)",
          "",
          "",
          "Alexis GEORGOULIS\n(Assistants: 2)",
          "",
          "",
          "Alfred SANT\n(Assistants: 2)",
          "",
          "",
          "Alice KUHNKE\n(Assistants: 25)",
          "",
          "",
          "",
          "",
          "",
          "",
          "",
          "",
          "",
          "",
          "",
          "",
          "Alin MITUȚA\n(Assistants: 3)",
          "",
          "",
          "",
          "Alyn SMITH",
          "",
          "",
          "",
          "",
          "",
          "",
          "",
          "",
          "",
          "",
          "",
          "",
          "",
          "",
          "",
          "",
          "",
          "",
          "",
          "",
          "",
          "",
          "",
          "",
          "",
          "",
          "",
          "",
          "",
          ""
         ],
         "type": "scatter",
         "x": [
          -0.5157165358692827,
          -0.48380539444458703,
          -0.5179496864781593,
          -0.5643210611151189,
          -0.5343699033682137,
          -0.7957492284875362,
          -0.7129541993808727,
          -0.8511222224679164,
          -0.814524714738236,
          -0.8191620682769475,
          -0.4392046295172577,
          -0.48415988905960616,
          -0.39282475717276777,
          -0.47324080335073626,
          -0.45261450614501536,
          0.6958529427805066,
          0.637485655053412,
          0.7470999814973844,
          -0.6471928284002298,
          -0.6213246102570167,
          -0.6973970617459547,
          -0.6487966270564806,
          -0.6908282162592154,
          -0.7079262994907444,
          -0.6656007393860794,
          -0.5952073213494558,
          -0.13031783806069025,
          -0.12260284479937175,
          -0.1490648773855805,
          -0.16973974188869076,
          -0.09009534573141541,
          -0.051952728609481254,
          -0.0572377871161787,
          -0.052865945555005664,
          -0.6990347783390798,
          -0.65037855100721,
          -0.7430090300721808,
          0.7492444903763746,
          0.7940234810367706,
          0.76551879370937,
          0.8087955926352927,
          0.7415816783298292,
          0.7225168531555711,
          0.7834291271796918,
          0.8173290496071538,
          -0.2668878357694481,
          -0.23098186966132753,
          -0.24187155080693976,
          -0.2924563158658138,
          -1,
          -0.9820619433238521,
          0.18921724214732075,
          0.22989300768191023,
          0.19150053164577502,
          -0.17392121217947445,
          -0.21943147012244824,
          -0.1620018881281177,
          0.5981997697568827,
          0.6564851475360507,
          0.6620156631228075,
          0.6348683840534471,
          0.5313538276510629,
          -0.6454769204721399,
          -0.5968633105879853,
          -0.6859171578424506,
          0.11758333137069518,
          0.08533683483256074,
          0.14871934586504387,
          0.4553693101613961,
          0.47085316751658857,
          0.43868328769508746,
          0.2322273617242513,
          0.30381206028446334,
          0.28649682271151206,
          0.20227266215311207,
          0.2451390194500036,
          0.1666955453671004,
          0.2591628847328446,
          0.25185767888262584,
          0.19068159462184636,
          0.1700491121778467,
          0.3023679940993807,
          0.1717211497439821,
          0.19245918975529147,
          -0.647292708402363,
          -0.6336398872510614,
          -0.6849139579089287,
          -0.6555341483103566,
          0.7417625751840766,
          0.7851919332597584,
          -0.4830454859301996,
          0.7567229673793155,
          0.6559663580349955,
          0.7323699379333535,
          0.17390966750222236,
          0.1624730573198999,
          0.22141558981076517,
          0.5508079082143684,
          0.6091172789005511,
          0.653392595914664,
          0.6293160669817073,
          0.5818407171719538,
          0.5919644825694947,
          -0.8485377462458334,
          -0.8477900903224148,
          0.2121507116369137,
          0.2221395169108699,
          0.2781965372525834,
          0.23462288668691342,
          0.28211513078922124,
          0.27533610347867105,
          0.6659019008315009,
          0.7304627598379623,
          0.8103338458693392,
          -0.13191355650443204,
          -0.14461053943024874,
          -0.17161509101085695,
          -0.21638872524691222,
          -0.1999639178674285
         ],
         "y": [
          0.6274598602016984,
          0.6532864445661042,
          0.5782551891549136,
          0.6682831722034863,
          0.6846093801778755,
          0.1256872286289233,
          0.11411263712362818,
          0.10247888224088784,
          0.17121072478674143,
          0.08586440961671765,
          -0.7069121428414596,
          -0.7509645603512197,
          -0.6408191264216339,
          -0.693321776814929,
          -0.7649610631357742,
          0.16609913069559987,
          0.16923506912406053,
          0.1478014616796886,
          -0.24264611271953038,
          -0.27857596212861074,
          -0.27578859636131686,
          -0.1978629324091711,
          -0.2140436282976376,
          -0.24520515088985953,
          -0.2910876280903445,
          -0.22547305715124358,
          0.4625642692065725,
          0.5057886939046733,
          0.42618652360496456,
          0.48338453111337515,
          0.458277779027424,
          0.7596509878903791,
          0.7255072018947409,
          0.8166792224548934,
          0.3519245927108852,
          0.32750014848176656,
          0.37387053962245637,
          -0.1833263205420341,
          -0.23462792015882764,
          -0.22015243636819706,
          -0.1569581756651296,
          -0.2422040746740912,
          -0.2143827220889889,
          -0.1395022653257849,
          -0.1830775670084783,
          0.7792426389045088,
          0.7950590667393429,
          0.760638486054,
          0.7469824653048905,
          -0.2073497565830908,
          -0.18161659125744406,
          0.7092898257292413,
          0.7132246120950891,
          0.7713522445643868,
          -0.7349564410860242,
          -0.7709772367229538,
          -0.657948911201793,
          0.49158082543279696,
          0.4776497021038324,
          0.5045019823819236,
          0.5464750359512198,
          0.44033541973725965,
          0.5765016868260958,
          0.5461820558168959,
          0.6044256133767624,
          -0.8971437858075538,
          -0.8764124486897676,
          -0.8780676674773085,
          0.7477215897315994,
          0.7822367226852982,
          0.7116132343779276,
          -0.42835862421349463,
          -0.44795772495705655,
          -0.48372847272036423,
          -0.46075517566905944,
          -0.48023029704682957,
          -0.4300960547479145,
          -0.5031675028914941,
          -0.36267114161250324,
          -0.38583159805176537,
          -0.4592026344490031,
          -0.41693929263606494,
          -0.40433083958951843,
          -0.48856305167547026,
          -0.5517995081198933,
          -0.588332065881808,
          -0.563194286529853,
          -0.5164706846664489,
          -0.5557067958228634,
          -0.5955199407568252,
          0.6014927820287896,
          0.18053028589065337,
          0.13592142442431224,
          0.2049133816602641,
          0.6345845469294489,
          0.7536106246263008,
          0.7584860482933495,
          0.5021451353875138,
          0.5530428521784545,
          0.5288753040475204,
          0.4506666908983826,
          0.5442354472329801,
          0.4527057102992757,
          0.1605484636581727,
          0.13167570904051606,
          -0.36469517083140507,
          -0.5013308958269871,
          -0.4593357854204007,
          -0.38726974053179947,
          -0.37841346966656386,
          -0.4058970818485028,
          -0.15809940520536914,
          -0.13980767765755572,
          -0.208958231117095,
          -0.7479833545176761,
          -0.7853788990245816,
          -0.7973918001928699,
          -0.7262371912786777,
          -0.7941452410935508
         ]
        },
        {
         "marker": {
          "color": "blue",
          "size": 10
         },
         "mode": "markers",
         "name": "EPP",
         "type": "scatter",
         "x": [
          null
         ],
         "y": [
          null
         ]
        },
        {
         "marker": {
          "color": "red",
          "size": 10
         },
         "mode": "markers",
         "name": "S&D",
         "type": "scatter",
         "x": [
          null
         ],
         "y": [
          null
         ]
        },
        {
         "marker": {
          "color": "yellow",
          "size": 10
         },
         "mode": "markers",
         "name": "Renew",
         "type": "scatter",
         "x": [
          null
         ],
         "y": [
          null
         ]
        },
        {
         "marker": {
          "color": "green",
          "size": 10
         },
         "mode": "markers",
         "name": "Greens/EFA",
         "type": "scatter",
         "x": [
          null
         ],
         "y": [
          null
         ]
        },
        {
         "marker": {
          "color": "purple",
          "size": 10
         },
         "mode": "markers",
         "name": "ID",
         "type": "scatter",
         "x": [
          null
         ],
         "y": [
          null
         ]
        },
        {
         "marker": {
          "color": "orange",
          "size": 10
         },
         "mode": "markers",
         "name": "ECR",
         "type": "scatter",
         "x": [
          null
         ],
         "y": [
          null
         ]
        },
        {
         "marker": {
          "color": "pink",
          "size": 10
         },
         "mode": "markers",
         "name": "GUE/NGL",
         "type": "scatter",
         "x": [
          null
         ],
         "y": [
          null
         ]
        },
        {
         "marker": {
          "color": "gray",
          "size": 10
         },
         "mode": "markers",
         "name": "NI",
         "type": "scatter",
         "x": [
          null
         ],
         "y": [
          null
         ]
        }
       ],
       "layout": {
        "hovermode": "closest",
        "margin": {
         "b": 0,
         "l": 0,
         "r": 0,
         "t": 40
        },
        "showlegend": true,
        "template": {
         "data": {
          "bar": [
           {
            "error_x": {
             "color": "#2a3f5f"
            },
            "error_y": {
             "color": "#2a3f5f"
            },
            "marker": {
             "line": {
              "color": "#E5ECF6",
              "width": 0.5
             },
             "pattern": {
              "fillmode": "overlay",
              "size": 10,
              "solidity": 0.2
             }
            },
            "type": "bar"
           }
          ],
          "barpolar": [
           {
            "marker": {
             "line": {
              "color": "#E5ECF6",
              "width": 0.5
             },
             "pattern": {
              "fillmode": "overlay",
              "size": 10,
              "solidity": 0.2
             }
            },
            "type": "barpolar"
           }
          ],
          "carpet": [
           {
            "aaxis": {
             "endlinecolor": "#2a3f5f",
             "gridcolor": "white",
             "linecolor": "white",
             "minorgridcolor": "white",
             "startlinecolor": "#2a3f5f"
            },
            "baxis": {
             "endlinecolor": "#2a3f5f",
             "gridcolor": "white",
             "linecolor": "white",
             "minorgridcolor": "white",
             "startlinecolor": "#2a3f5f"
            },
            "type": "carpet"
           }
          ],
          "choropleth": [
           {
            "colorbar": {
             "outlinewidth": 0,
             "ticks": ""
            },
            "type": "choropleth"
           }
          ],
          "contour": [
           {
            "colorbar": {
             "outlinewidth": 0,
             "ticks": ""
            },
            "colorscale": [
             [
              0,
              "#0d0887"
             ],
             [
              0.1111111111111111,
              "#46039f"
             ],
             [
              0.2222222222222222,
              "#7201a8"
             ],
             [
              0.3333333333333333,
              "#9c179e"
             ],
             [
              0.4444444444444444,
              "#bd3786"
             ],
             [
              0.5555555555555556,
              "#d8576b"
             ],
             [
              0.6666666666666666,
              "#ed7953"
             ],
             [
              0.7777777777777778,
              "#fb9f3a"
             ],
             [
              0.8888888888888888,
              "#fdca26"
             ],
             [
              1,
              "#f0f921"
             ]
            ],
            "type": "contour"
           }
          ],
          "contourcarpet": [
           {
            "colorbar": {
             "outlinewidth": 0,
             "ticks": ""
            },
            "type": "contourcarpet"
           }
          ],
          "heatmap": [
           {
            "colorbar": {
             "outlinewidth": 0,
             "ticks": ""
            },
            "colorscale": [
             [
              0,
              "#0d0887"
             ],
             [
              0.1111111111111111,
              "#46039f"
             ],
             [
              0.2222222222222222,
              "#7201a8"
             ],
             [
              0.3333333333333333,
              "#9c179e"
             ],
             [
              0.4444444444444444,
              "#bd3786"
             ],
             [
              0.5555555555555556,
              "#d8576b"
             ],
             [
              0.6666666666666666,
              "#ed7953"
             ],
             [
              0.7777777777777778,
              "#fb9f3a"
             ],
             [
              0.8888888888888888,
              "#fdca26"
             ],
             [
              1,
              "#f0f921"
             ]
            ],
            "type": "heatmap"
           }
          ],
          "heatmapgl": [
           {
            "colorbar": {
             "outlinewidth": 0,
             "ticks": ""
            },
            "colorscale": [
             [
              0,
              "#0d0887"
             ],
             [
              0.1111111111111111,
              "#46039f"
             ],
             [
              0.2222222222222222,
              "#7201a8"
             ],
             [
              0.3333333333333333,
              "#9c179e"
             ],
             [
              0.4444444444444444,
              "#bd3786"
             ],
             [
              0.5555555555555556,
              "#d8576b"
             ],
             [
              0.6666666666666666,
              "#ed7953"
             ],
             [
              0.7777777777777778,
              "#fb9f3a"
             ],
             [
              0.8888888888888888,
              "#fdca26"
             ],
             [
              1,
              "#f0f921"
             ]
            ],
            "type": "heatmapgl"
           }
          ],
          "histogram": [
           {
            "marker": {
             "pattern": {
              "fillmode": "overlay",
              "size": 10,
              "solidity": 0.2
             }
            },
            "type": "histogram"
           }
          ],
          "histogram2d": [
           {
            "colorbar": {
             "outlinewidth": 0,
             "ticks": ""
            },
            "colorscale": [
             [
              0,
              "#0d0887"
             ],
             [
              0.1111111111111111,
              "#46039f"
             ],
             [
              0.2222222222222222,
              "#7201a8"
             ],
             [
              0.3333333333333333,
              "#9c179e"
             ],
             [
              0.4444444444444444,
              "#bd3786"
             ],
             [
              0.5555555555555556,
              "#d8576b"
             ],
             [
              0.6666666666666666,
              "#ed7953"
             ],
             [
              0.7777777777777778,
              "#fb9f3a"
             ],
             [
              0.8888888888888888,
              "#fdca26"
             ],
             [
              1,
              "#f0f921"
             ]
            ],
            "type": "histogram2d"
           }
          ],
          "histogram2dcontour": [
           {
            "colorbar": {
             "outlinewidth": 0,
             "ticks": ""
            },
            "colorscale": [
             [
              0,
              "#0d0887"
             ],
             [
              0.1111111111111111,
              "#46039f"
             ],
             [
              0.2222222222222222,
              "#7201a8"
             ],
             [
              0.3333333333333333,
              "#9c179e"
             ],
             [
              0.4444444444444444,
              "#bd3786"
             ],
             [
              0.5555555555555556,
              "#d8576b"
             ],
             [
              0.6666666666666666,
              "#ed7953"
             ],
             [
              0.7777777777777778,
              "#fb9f3a"
             ],
             [
              0.8888888888888888,
              "#fdca26"
             ],
             [
              1,
              "#f0f921"
             ]
            ],
            "type": "histogram2dcontour"
           }
          ],
          "mesh3d": [
           {
            "colorbar": {
             "outlinewidth": 0,
             "ticks": ""
            },
            "type": "mesh3d"
           }
          ],
          "parcoords": [
           {
            "line": {
             "colorbar": {
              "outlinewidth": 0,
              "ticks": ""
             }
            },
            "type": "parcoords"
           }
          ],
          "pie": [
           {
            "automargin": true,
            "type": "pie"
           }
          ],
          "scatter": [
           {
            "fillpattern": {
             "fillmode": "overlay",
             "size": 10,
             "solidity": 0.2
            },
            "type": "scatter"
           }
          ],
          "scatter3d": [
           {
            "line": {
             "colorbar": {
              "outlinewidth": 0,
              "ticks": ""
             }
            },
            "marker": {
             "colorbar": {
              "outlinewidth": 0,
              "ticks": ""
             }
            },
            "type": "scatter3d"
           }
          ],
          "scattercarpet": [
           {
            "marker": {
             "colorbar": {
              "outlinewidth": 0,
              "ticks": ""
             }
            },
            "type": "scattercarpet"
           }
          ],
          "scattergeo": [
           {
            "marker": {
             "colorbar": {
              "outlinewidth": 0,
              "ticks": ""
             }
            },
            "type": "scattergeo"
           }
          ],
          "scattergl": [
           {
            "marker": {
             "colorbar": {
              "outlinewidth": 0,
              "ticks": ""
             }
            },
            "type": "scattergl"
           }
          ],
          "scattermapbox": [
           {
            "marker": {
             "colorbar": {
              "outlinewidth": 0,
              "ticks": ""
             }
            },
            "type": "scattermapbox"
           }
          ],
          "scatterpolar": [
           {
            "marker": {
             "colorbar": {
              "outlinewidth": 0,
              "ticks": ""
             }
            },
            "type": "scatterpolar"
           }
          ],
          "scatterpolargl": [
           {
            "marker": {
             "colorbar": {
              "outlinewidth": 0,
              "ticks": ""
             }
            },
            "type": "scatterpolargl"
           }
          ],
          "scatterternary": [
           {
            "marker": {
             "colorbar": {
              "outlinewidth": 0,
              "ticks": ""
             }
            },
            "type": "scatterternary"
           }
          ],
          "surface": [
           {
            "colorbar": {
             "outlinewidth": 0,
             "ticks": ""
            },
            "colorscale": [
             [
              0,
              "#0d0887"
             ],
             [
              0.1111111111111111,
              "#46039f"
             ],
             [
              0.2222222222222222,
              "#7201a8"
             ],
             [
              0.3333333333333333,
              "#9c179e"
             ],
             [
              0.4444444444444444,
              "#bd3786"
             ],
             [
              0.5555555555555556,
              "#d8576b"
             ],
             [
              0.6666666666666666,
              "#ed7953"
             ],
             [
              0.7777777777777778,
              "#fb9f3a"
             ],
             [
              0.8888888888888888,
              "#fdca26"
             ],
             [
              1,
              "#f0f921"
             ]
            ],
            "type": "surface"
           }
          ],
          "table": [
           {
            "cells": {
             "fill": {
              "color": "#EBF0F8"
             },
             "line": {
              "color": "white"
             }
            },
            "header": {
             "fill": {
              "color": "#C8D4E3"
             },
             "line": {
              "color": "white"
             }
            },
            "type": "table"
           }
          ]
         },
         "layout": {
          "annotationdefaults": {
           "arrowcolor": "#2a3f5f",
           "arrowhead": 0,
           "arrowwidth": 1
          },
          "autotypenumbers": "strict",
          "coloraxis": {
           "colorbar": {
            "outlinewidth": 0,
            "ticks": ""
           }
          },
          "colorscale": {
           "diverging": [
            [
             0,
             "#8e0152"
            ],
            [
             0.1,
             "#c51b7d"
            ],
            [
             0.2,
             "#de77ae"
            ],
            [
             0.3,
             "#f1b6da"
            ],
            [
             0.4,
             "#fde0ef"
            ],
            [
             0.5,
             "#f7f7f7"
            ],
            [
             0.6,
             "#e6f5d0"
            ],
            [
             0.7,
             "#b8e186"
            ],
            [
             0.8,
             "#7fbc41"
            ],
            [
             0.9,
             "#4d9221"
            ],
            [
             1,
             "#276419"
            ]
           ],
           "sequential": [
            [
             0,
             "#0d0887"
            ],
            [
             0.1111111111111111,
             "#46039f"
            ],
            [
             0.2222222222222222,
             "#7201a8"
            ],
            [
             0.3333333333333333,
             "#9c179e"
            ],
            [
             0.4444444444444444,
             "#bd3786"
            ],
            [
             0.5555555555555556,
             "#d8576b"
            ],
            [
             0.6666666666666666,
             "#ed7953"
            ],
            [
             0.7777777777777778,
             "#fb9f3a"
            ],
            [
             0.8888888888888888,
             "#fdca26"
            ],
            [
             1,
             "#f0f921"
            ]
           ],
           "sequentialminus": [
            [
             0,
             "#0d0887"
            ],
            [
             0.1111111111111111,
             "#46039f"
            ],
            [
             0.2222222222222222,
             "#7201a8"
            ],
            [
             0.3333333333333333,
             "#9c179e"
            ],
            [
             0.4444444444444444,
             "#bd3786"
            ],
            [
             0.5555555555555556,
             "#d8576b"
            ],
            [
             0.6666666666666666,
             "#ed7953"
            ],
            [
             0.7777777777777778,
             "#fb9f3a"
            ],
            [
             0.8888888888888888,
             "#fdca26"
            ],
            [
             1,
             "#f0f921"
            ]
           ]
          },
          "colorway": [
           "#636efa",
           "#EF553B",
           "#00cc96",
           "#ab63fa",
           "#FFA15A",
           "#19d3f3",
           "#FF6692",
           "#B6E880",
           "#FF97FF",
           "#FECB52"
          ],
          "font": {
           "color": "#2a3f5f"
          },
          "geo": {
           "bgcolor": "white",
           "lakecolor": "white",
           "landcolor": "#E5ECF6",
           "showlakes": true,
           "showland": true,
           "subunitcolor": "white"
          },
          "hoverlabel": {
           "align": "left"
          },
          "hovermode": "closest",
          "mapbox": {
           "style": "light"
          },
          "paper_bgcolor": "white",
          "plot_bgcolor": "#E5ECF6",
          "polar": {
           "angularaxis": {
            "gridcolor": "white",
            "linecolor": "white",
            "ticks": ""
           },
           "bgcolor": "#E5ECF6",
           "radialaxis": {
            "gridcolor": "white",
            "linecolor": "white",
            "ticks": ""
           }
          },
          "scene": {
           "xaxis": {
            "backgroundcolor": "#E5ECF6",
            "gridcolor": "white",
            "gridwidth": 2,
            "linecolor": "white",
            "showbackground": true,
            "ticks": "",
            "zerolinecolor": "white"
           },
           "yaxis": {
            "backgroundcolor": "#E5ECF6",
            "gridcolor": "white",
            "gridwidth": 2,
            "linecolor": "white",
            "showbackground": true,
            "ticks": "",
            "zerolinecolor": "white"
           },
           "zaxis": {
            "backgroundcolor": "#E5ECF6",
            "gridcolor": "white",
            "gridwidth": 2,
            "linecolor": "white",
            "showbackground": true,
            "ticks": "",
            "zerolinecolor": "white"
           }
          },
          "shapedefaults": {
           "line": {
            "color": "#2a3f5f"
           }
          },
          "ternary": {
           "aaxis": {
            "gridcolor": "white",
            "linecolor": "white",
            "ticks": ""
           },
           "baxis": {
            "gridcolor": "white",
            "linecolor": "white",
            "ticks": ""
           },
           "bgcolor": "#E5ECF6",
           "caxis": {
            "gridcolor": "white",
            "linecolor": "white",
            "ticks": ""
           }
          },
          "title": {
           "x": 0.05
          },
          "xaxis": {
           "automargin": true,
           "gridcolor": "white",
           "linecolor": "white",
           "ticks": "",
           "title": {
            "standoff": 15
           },
           "zerolinecolor": "white",
           "zerolinewidth": 2
          },
          "yaxis": {
           "automargin": true,
           "gridcolor": "white",
           "linecolor": "white",
           "ticks": "",
           "title": {
            "standoff": 15
           },
           "zerolinecolor": "white",
           "zerolinewidth": 2
          }
         }
        },
        "title": {
         "font": {
          "size": 16
         },
         "text": "MEP Assistants Network Graph"
        },
        "xaxis": {
         "showgrid": false,
         "showticklabels": false,
         "zeroline": false
        },
        "yaxis": {
         "showgrid": false,
         "showticklabels": false,
         "zeroline": false
        }
       }
      }
     },
     "metadata": {},
     "output_type": "display_data"
    }
   ],
   "source": [
    "import networkx as nx\n",
    "import plotly.graph_objects as go\n",
    "import pandas as pd\n",
    "\n",
    "# Sample Data: Replace with your actual DataFrame\n",
    "# Assume `unique_meps_apas` is your DataFrame with MEPs and assistants data\n",
    "# Here, the structure is: ['mep_name', 'assistant_name', 'group']\n",
    "\n",
    "# Create a directed graph\n",
    "G = nx.Graph()\n",
    "\n",
    "# Define a color map for groups\n",
    "group_colors = {\n",
    "    'EPP': 'blue', 'S&D': 'red', 'Renew': 'yellow', 'Greens/EFA': 'green', \n",
    "    'ID': 'purple', 'ECR': 'orange', 'GUE/NGL': 'pink', 'NI': 'gray'\n",
    "}\n",
    "\n",
    "# Sample MEPs to visualize (You can use all unique MEPs or a subset)\n",
    "sample_meps = unique_meps_apas['mep_name'].unique()[:20]  \n",
    "sample_data = unique_meps_apas[unique_meps_apas['mep_name'].isin(sample_meps)]\n",
    "\n",
    "# Create a dictionary to track assistant counts for each MEP\n",
    "assistant_count = {}\n",
    "\n",
    "# Add nodes and edges based on the filtered data\n",
    "for _, row in sample_data.iterrows():\n",
    "    mep_name = row['mep_name']\n",
    "    assistant_name = row['assistant_name']\n",
    "    group = row['group']\n",
    "    \n",
    "    # Add MEP node with group color\n",
    "    G.add_node(mep_name, type='mep', group=group, color=group_colors.get(group, 'black'))\n",
    "    \n",
    "    # Count assistants per MEP for sizing\n",
    "    if mep_name in assistant_count:\n",
    "        assistant_count[mep_name] += 1\n",
    "    else:\n",
    "        assistant_count[mep_name] = 1\n",
    "    \n",
    "    # Add edge between MEP and assistant (not needed for this visualization)\n",
    "    G.add_node(assistant_name, type='assistant', color='lightgray')\n",
    "    G.add_edge(mep_name, assistant_name)\n",
    "\n",
    "# Create positions for the nodes using spring layout\n",
    "pos = nx.spring_layout(G, seed=42)  # Use seed for reproducibility\n",
    "\n",
    "# Function to format the text for MEP nodes\n",
    "def format_mep_text(mep_name, count):\n",
    "    if count > 1:\n",
    "        # Split the name into two rows if possible\n",
    "        return f\"{mep_name}\\n(Assistants: {count})\"\n",
    "    return mep_name\n",
    "\n",
    "# Add nodes with customized sizes and colors\n",
    "node_x = []\n",
    "node_y = []\n",
    "node_text = []\n",
    "node_hover_text = []\n",
    "node_size = []\n",
    "node_color = []\n",
    "\n",
    "for node in G.nodes(data=True):\n",
    "    x, y = pos[node[0]]\n",
    "    node_x.append(x)\n",
    "    node_y.append(y)\n",
    "    \n",
    "    if node[1]['type'] == 'mep':\n",
    "        # Set MEP node size based on the number of assistants they have\n",
    "        count = assistant_count.get(node[0], 0)\n",
    "        node_size.append(5 + count * 3)  # Base size plus scaling factor\n",
    "        node_color.append(node[1]['color'])\n",
    "        \n",
    "        # Format text for the node (two lines if space allows)\n",
    "        formatted_text = format_mep_text(node[0], count)\n",
    "        node_text.append(formatted_text)  # Show formatted text on node\n",
    "        node_hover_text.append(node[0])  # Show full name on hover\n",
    "    else:\n",
    "        node_size.append(0)  # Hide assistant nodes from visualization\n",
    "        node_color.append('lightgray')\n",
    "        node_text.append('')  # No text for assistants\n",
    "        node_hover_text.append('')  # No hover text for assistants\n",
    "\n",
    "node_trace = go.Scatter(\n",
    "    x=node_x, y=node_y,\n",
    "    mode='markers+text',\n",
    "    text=node_text,\n",
    "    hoverinfo='text',\n",
    "    marker=dict(\n",
    "        size=node_size,\n",
    "        color=node_color,\n",
    "        line=dict(width=2)\n",
    "    )\n",
    ")\n",
    "\n",
    "# Create the figure with a legend\n",
    "fig = go.Figure(data=[node_trace],\n",
    "                layout=go.Layout(\n",
    "                    title='MEP Assistants Network Graph',\n",
    "                    titlefont=dict(size=16),\n",
    "                    showlegend=True,\n",
    "                    hovermode='closest',\n",
    "                    margin=dict(b=0, l=0, r=0, t=40),\n",
    "                    xaxis=dict(showgrid=False, zeroline=False, showticklabels=False),\n",
    "                    yaxis=dict(showgrid=False, zeroline=False, showticklabels=False))\n",
    "                )\n",
    "\n",
    "# Create legend\n",
    "for group, color in group_colors.items():\n",
    "    fig.add_trace(go.Scatter(\n",
    "        x=[None], y=[None], \n",
    "        mode='markers', \n",
    "        marker=dict(size=10, color=color),\n",
    "        name=group  # Name of the group to show in the legend\n",
    "    ))\n",
    "\n",
    "# Show the plot\n",
    "fig.show()"
   ]
  },
  {
   "cell_type": "code",
   "execution_count": 16,
   "metadata": {},
   "outputs": [],
   "source": [
    "import networkx as nx\n",
    "import json\n",
    "\n",
    "# Create a directed graph\n",
    "G = nx.DiGraph()\n",
    "\n",
    "# Add nodes and edges with group, term, and assistant_type as attributes\n",
    "for _, row in unique_meps_apas.iterrows():\n",
    "    # Add MEP nodes\n",
    "    G.add_node(\n",
    "        row['mep_name'], \n",
    "        type='mep', \n",
    "        group=row['group'], \n",
    "        term=row['term']\n",
    "    )\n",
    "    \n",
    "    # Add assistant nodes with assistant_type\n",
    "    G.add_node(\n",
    "        row['assistant_name'], \n",
    "        type='assistant', \n",
    "        group=None, \n",
    "        term=None, \n",
    "        assistant_type=row.get('assistant_type')  # Ensure this attribute is populated\n",
    "    )\n",
    "    \n",
    "    # Create edge between MEP and assistant\n",
    "    G.add_edge(row['mep_name'], row['assistant_name'])\n",
    "\n",
    "# Convert the graph to JSON format\n",
    "graph_data = {\n",
    "    \"nodes\": [\n",
    "        {\n",
    "            \"id\": node,\n",
    "            \"label\": node,\n",
    "            \"type\": G.nodes[node][\"type\"],\n",
    "            \"group\": G.nodes[node][\"group\"],\n",
    "            \"term\": G.nodes[node][\"term\"],\n",
    "            \"assistant_type\": G.nodes[node].get(\"assistant_type\")  # Add assistant_type to JSON if it exists\n",
    "        }\n",
    "        for node in G.nodes\n",
    "    ],\n",
    "    \"edges\": [\n",
    "        {\"source\": source, \"target\": target}\n",
    "        for source, target in G.edges\n",
    "    ]\n",
    "}\n",
    "\n",
    "# Save to JSON file\n",
    "with open(\"graph_data.json\", \"w\") as f:\n",
    "    json.dump(graph_data, f)"
   ]
  },
  {
   "cell_type": "code",
   "execution_count": 21,
   "metadata": {},
   "outputs": [
    {
     "name": "stdout",
     "output_type": "stream",
     "text": [
      "network.html\n"
     ]
    },
    {
     "data": {
      "text/html": [
       "\n",
       "        <iframe\n",
       "            width=\"100%\"\n",
       "            height=\"750px\"\n",
       "            src=\"network.html\"\n",
       "            frameborder=\"0\"\n",
       "            allowfullscreen\n",
       "            \n",
       "        ></iframe>\n",
       "        "
      ],
      "text/plain": [
       "<IPython.lib.display.IFrame at 0x206c9a2cf50>"
      ]
     },
     "execution_count": 21,
     "metadata": {},
     "output_type": "execute_result"
    }
   ],
   "source": [
    "import pandas as pd\n",
    "import networkx as nx\n",
    "from pyvis.network import Network\n",
    "\n",
    "# Sample DataFrame creation based on your provided structure\n",
    "data = {\n",
    "    'assistant_name': [\n",
    "        'Anna Sophia BENGTSSON', 'John August HULTENGAARD', 'Tyra Louise LUNDBERG', \n",
    "        'Linn Christina Brunhilde OETTERLI', 'Sylwia Joanna BETKOWSKA',\n",
    "        'Andréa Laure Marie MOULIN', 'Polona KEK', 'Petra SKRINJAR', 'Peter SUHEL', 'Dominik STRAKL'\n",
    "    ],\n",
    "    'mep_name': [\n",
    "        'Abir AL-SAHLANI', 'Abir AL-SAHLANI', 'Abir AL-SAHLANI', \n",
    "        'Abir AL-SAHLANI', 'Adam JARUBAS', 'Željana ZOVKO', \n",
    "        'Milan ZVER', 'Milan ZVER', 'Milan ZVER', 'Milan ZVER'\n",
    "    ],\n",
    "    'group': ['Renew', 'Renew', 'Renew', 'Renew', 'EPP', 'EPP', 'EPP', 'EPP', 'EPP', 'EPP'],\n",
    "    'country': ['Sweden', 'Sweden', 'Sweden', 'Sweden', 'Poland', 'Croatia', 'Slovenia', 'Slovenia', 'Slovenia', 'Slovenia'],\n",
    "    'term': [9, 9, 9, 9, 10, 10, 10, 10, 10, 10],\n",
    "    'assistant_type': ['accredited', 'accredited', 'accredited', 'accredited', 'accredited', \n",
    "                      'accredited', 'accredited', 'accredited', 'accredited', 'accredited_grouping']\n",
    "}\n",
    "\n",
    "# Create DataFrame\n",
    "unique_meps_apas = pd.DataFrame(data)\n",
    "\n",
    "# Filter for accredited assistants only\n",
    "accredited_assistants = unique_meps_apas[unique_meps_apas['assistant_type'] == 'accredited']\n",
    "\n",
    "# Calculate transitions for each MEP\n",
    "transitions = accredited_assistants.groupby('mep_name').agg(\n",
    "    lost_assistants=('assistant_name', lambda x: len(set(x[accredited_assistants['term'] == 9]) - set(x[accredited_assistants['term'] == 10]))),\n",
    "    gained_assistants=('assistant_name', lambda x: len(set(x[accredited_assistants['term'] == 10]) - set(x[accredited_assistants['term'] == 9])))\n",
    ").reset_index()\n",
    "\n",
    "# Calculate total transitions\n",
    "transitions['total_transitions'] = transitions['lost_assistants'] + transitions['gained_assistants']\n",
    "\n",
    "# Create a directed graph\n",
    "G = nx.DiGraph()\n",
    "\n",
    "# Define a color map for groups\n",
    "group_colors = {\n",
    "    'EPP': 'blue', 'S&D': 'red', 'Renew': 'yellow', \n",
    "    'Greens/EFA': 'green', 'ID': 'purple', 'ECR': 'orange', \n",
    "    'GUE/NGL': 'pink', 'NI': 'gray'\n",
    "}\n",
    "\n",
    "# Add nodes for MEPs and their transitions\n",
    "for _, row in transitions.iterrows():\n",
    "    mep_name = row['mep_name']\n",
    "    group = unique_meps_apas.loc[unique_meps_apas['mep_name'] == mep_name, 'group'].iloc[0]  # Get the group for the MEP\n",
    "    transitions_count = row['total_transitions']\n",
    "    \n",
    "    # Add MEP node with transitions count\n",
    "    G.add_node(mep_name, type='mep', group=group, color=group_colors.get(group, 'black'), transitions=transitions_count)\n",
    "\n",
    "# Add assistants and edges\n",
    "for _, row in accredited_assistants.iterrows():\n",
    "    assistant_name = row['assistant_name']\n",
    "    mep_name = row['mep_name']\n",
    "    \n",
    "    # Add assistant node\n",
    "    G.add_node(assistant_name, type='assistant', color='lightgray')\n",
    "    \n",
    "    # Add edge between MEP and assistant\n",
    "    G.add_edge(mep_name, assistant_name)\n",
    "\n",
    "# Create a Pyvis network graph\n",
    "net = Network(height='750px', width='100%', notebook=True, cdn_resources='in_line')\n",
    "\n",
    "# Add nodes and edges to the Pyvis network\n",
    "for node in G.nodes(data=True):\n",
    "    # Check for 'transitions' key to avoid KeyError\n",
    "    transitions_count = node[1].get('transitions', 0)  # Default to 0 if not found\n",
    "    net.add_node(node[0], title=node[0], color=node[1]['color'], size=transitions_count * 5 + 10)\n",
    "\n",
    "for edge in G.edges():\n",
    "    net.add_edge(edge[0], edge[1])\n",
    "\n",
    "# Enable physics layout\n",
    "net.force_atlas_2based()\n",
    "\n",
    "# Show the graph in a notebook\n",
    "net.show('network.html')"
   ]
  }
 ],
 "metadata": {
  "kernelspec": {
   "display_name": "mep_project",
   "language": "python",
   "name": "python3"
  },
  "language_info": {
   "codemirror_mode": {
    "name": "ipython",
    "version": 3
   },
   "file_extension": ".py",
   "mimetype": "text/x-python",
   "name": "python",
   "nbconvert_exporter": "python",
   "pygments_lexer": "ipython3",
   "version": "3.13.0"
  }
 },
 "nbformat": 4,
 "nbformat_minor": 2
}
