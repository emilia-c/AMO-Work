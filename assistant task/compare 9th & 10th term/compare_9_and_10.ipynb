{
 "cells": [
  {
   "cell_type": "markdown",
   "metadata": {},
   "source": [
    "## 1. SET-UP"
   ]
  },
  {
   "cell_type": "code",
   "execution_count": null,
   "metadata": {},
   "outputs": [],
   "source": [
    "import pandas as pd\n",
    "import json\n",
    "import os"
   ]
  },
  {
   "cell_type": "code",
   "execution_count": null,
   "metadata": {},
   "outputs": [],
   "source": [
    "# 1. Load JSON files for each term\n",
    "def load_mep_data(json_path):\n",
    "    \"\"\"Load MEP data from a JSON file.\"\"\"\n",
    "    print(f\"Loading MEP data from: {json_path}\")\n",
    "    if not os.path.exists(json_path):\n",
    "        print(f\"File not found: {json_path}\")\n",
    "        exit(1)\n",
    "    \n",
    "    try:\n",
    "        with open(json_path, \"r\", encoding=\"utf-8\") as f:\n",
    "            file_content = f.read().strip()  # Strip any extra whitespace\n",
    "            if not file_content:\n",
    "                raise ValueError(\"File is empty\")\n",
    "            \n",
    "            # Validate JSON by loading\n",
    "            meps_data = json.loads(file_content)  \n",
    "            print(f\"Loaded {len(meps_data)} MEPs successfully.\")\n",
    "            return meps_data\n",
    "    \n",
    "    except json.JSONDecodeError as e:\n",
    "        print(f\"JSON decode error at character {e.pos}: {e}\")\n",
    "    except ValueError as e:\n",
    "        print(f\"ValueError: {e}\")\n",
    "    except Exception as e:\n",
    "        print(f\"Failed to load MEP data: {e}\")\n",
    "    exit(1)\n",
    "\n",
    "# File paths (replace with your paths)\n",
    "data_9th_term = load_mep_data('C:/Users/Emilia/Documents/Uni Helsinki/Year Three/AMO Freelance/assistant task/9 term/raw data/final/9TERM_ALL_STANDARDIZED.json')\n",
    "data_10th_term = load_mep_data('C:/Users/Emilia/Documents/Uni Helsinki/Year Three/AMO Freelance/assistant task/10 term/raw data/29-10-2024/mep_assistants.json')\n",
    "\n",
    "# Convert data to DataFrame\n",
    "df_9th = pd.json_normalize(data_9th_term)\n",
    "df_9th['term'] = 9  # Add term info\n",
    "df_10th = pd.json_normalize(data_10th_term)\n",
    "df_10th['term'] = 10\n",
    "\n",
    "# Concatenate dataframes\n",
    "all_meps = pd.concat([df_9th, df_10th], ignore_index=True)"
   ]
  },
  {
   "cell_type": "markdown",
   "metadata": {},
   "source": [
    "# 2. CLEAN & STANDARDIZE"
   ]
  },
  {
   "cell_type": "markdown",
   "metadata": {},
   "source": [
    "### 2.1 Remove duplicate assistant names in same term"
   ]
  },
  {
   "cell_type": "markdown",
   "metadata": {},
   "source": [
    "### 2.2 Party names to abbreviations"
   ]
  }
 ],
 "metadata": {
  "kernelspec": {
   "display_name": "mep_project",
   "language": "python",
   "name": "python3"
  },
  "language_info": {
   "name": "python",
   "version": "3.13.0"
  }
 },
 "nbformat": 4,
 "nbformat_minor": 2
}
